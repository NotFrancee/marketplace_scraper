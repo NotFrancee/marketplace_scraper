{
 "cells": [
  {
   "cell_type": "code",
   "execution_count": 20,
   "id": "ca77c6e0-42ca-4937-a4b6-f2fdd19579c1",
   "metadata": {},
   "outputs": [],
   "source": [
    "from bs4 import BeautifulSoup\n",
    "import requests\n",
    "import numpy as np\n",
    "import pandas as pd\n",
    "import os\n",
    "import datetime\n",
    "import script\n",
    "import importlib\n",
    "\n",
    "from script import scrape_products\n",
    "\n",
    "importlib.reload(script)\n",
    "os.chdir('C:\\\\Users\\\\utezstage198\\\\Documents\\\\strategies_py\\\\scraper')"
   ]
  },
  {
   "cell_type": "markdown",
   "id": "b97f6d99-9c29-41ef-84e1-2fcaec243c14",
   "metadata": {
    "tags": []
   },
   "source": [
    "## Collecting URLs for the companies"
   ]
  },
  {
   "cell_type": "code",
   "execution_count": 21,
   "id": "433fcb8c-07bc-4e05-a9b2-f91e199e4ce7",
   "metadata": {},
   "outputs": [
    {
     "name": "stdout",
     "output_type": "stream",
     "text": [
      "LISTING NAME: USATO NIKON Z5 CON BATTERY GRIP\n",
      "Price: 1.000 €\t\n",
      "Link: https://www.subito.it/fotografia/usato-nikon-z5-con-battery-grip-torino-502250440.htm\t\n",
      "Description: USATO NIKON Z5 \n",
      "\n",
      "FOTOCAMERA NIKON MIRRORLESS IN OTTIME CONDIZIONI.\n",
      "BATTERY GRIP CON SEGNI DI UTILIZZO (VEDI DETTAGLI IN FOTO) .\n",
      "SPROVVISTA DI SCATOLA MA COMPLETA DI ACCESSORI.\t\n",
      "Is Sold: False\n",
      "LISTING NAME: Nikon Z5 con obiettivo 24-50mm\n",
      "Price: 1.190 €\t\n",
      "Link: https://www.subito.it/fotografia/nikon-z5-con-obiettivo-24-50mm-milano-502355074.htm\t\n",
      "Description: Vendo Nikon Z5 con obiettivo Z 24-50mm.\n",
      "\n",
      "Corpo e obiettivo come nuovi e perfettamente funzionanti.\t\n",
      "Is Sold: False\n",
      "LISTING NAME: Nikon Z6 II - 45k scatti\n",
      "Price: 1.500 €\t\n",
      "Link: https://www.subito.it/fotografia/nikon-z6-ii-45k-scatti-milano-501353863.htm\t\n",
      "Description: Vendo per upgrade Nikon Z6 II completa di scatola, batteria e carica batteria.\n",
      "\n",
      "45k scatti circa.\n",
      "\n",
      "In condizioni perfette, senza graffi o botte.\n",
      "\n",
      "Preferisco scambio a mano su milano ma posso anche spedire tramite subito.\n",
      "\n",
      "Prezzo leggermente trattabile, valuto scambio con serie x100 fuji + aggiunta.\n",
      "\n",
      "No Z7, Z8, Z7 II, D850, Zfc, Z5, Z50\t\n",
      "Is Sold: False\n",
      "LISTING NAME: Nikon z5 + MC 50 mm f/2.8\n",
      "Price: 1.000 €\t\n",
      "Link: https://www.subito.it/fotografia/nikon-z5-mc-50-mm-f-2-8-milano-502372896.htm\t\n",
      "Description: Vendo fotocamera mirrorless Nikon Z5 + obiettivo macro MC 50 mm f/2.8 + memorycard 128gb, tutto in ottime condizioni non usato molto, con scatole originali d'acquisto.\n",
      "Non rispondo a offerte basse siccome il prezzo è gia basso, chi se ne intende sa il prezzo originale di tutto\n",
      "quanto\t\n",
      "Is Sold: False\n",
      "LISTING NAME: Nikon z5\n",
      "Price: 1.600 €\t\n",
      "Link: https://www.subito.it/fotografia/nikon-z5-roma-466969601.htm\t\n",
      "Description: Vendesi Nikon z5 con 24-70 f4 s piu due batterie e adattatore ftz ii . Circa 6000 scatti\t\n",
      "Is Sold: False\n"
     ]
    }
   ],
   "source": [
    "script.Product.reset_scraped_products_history()\n",
    "items = scrape_products()"
   ]
  },
  {
   "cell_type": "code",
   "execution_count": 18,
   "id": "6afd905f-ec6b-48d0-9c9c-4157175f3eaa",
   "metadata": {},
   "outputs": [],
   "source": [
    "items "
   ]
  },
  {
   "cell_type": "code",
   "execution_count": null,
   "id": "1ff82d42-654b-442f-b6ef-c7d3da4bb92a",
   "metadata": {},
   "outputs": [],
   "source": []
  }
 ],
 "metadata": {
  "kernelspec": {
   "display_name": "Python 3 (ipykernel)",
   "language": "python",
   "name": "python3"
  },
  "language_info": {
   "codemirror_mode": {
    "name": "ipython",
    "version": 3
   },
   "file_extension": ".py",
   "mimetype": "text/x-python",
   "name": "python",
   "nbconvert_exporter": "python",
   "pygments_lexer": "ipython3",
   "version": "3.10.9"
  }
 },
 "nbformat": 4,
 "nbformat_minor": 5
}
