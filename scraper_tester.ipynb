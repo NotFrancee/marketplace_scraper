{
 "cells": [
  {
   "cell_type": "code",
   "execution_count": 52,
   "id": "ca77c6e0-42ca-4937-a4b6-f2fdd19579c1",
   "metadata": {},
   "outputs": [],
   "source": [
    "from bs4 import BeautifulSoup\n",
    "import requests\n",
    "import numpy as np\n",
    "import pandas as pd\n",
    "import os\n",
    "import datetime\n",
    "import importlib\n",
    "from selenium.webdriver.common.by import By\n",
    "\n",
    "import scrapers\n",
    "\n",
    "importlib.reload(scrapers)\n",
    "os.chdir('C:\\\\Users\\\\utezstage198\\\\Documents\\\\strategies_py\\\\scraper')"
   ]
  },
  {
   "cell_type": "markdown",
   "id": "b97f6d99-9c29-41ef-84e1-2fcaec243c14",
   "metadata": {
    "tags": []
   },
   "source": [
    "## Collecting URLs for the companies"
   ]
  },
  {
   "cell_type": "code",
   "execution_count": 37,
   "id": "25f17068-3e47-4594-b8ef-f1c8642db96d",
   "metadata": {},
   "outputs": [],
   "source": [
    "req = 'https://www.subito.it/annunci-italia/vendita/usato/?q=nikon+z5'\n",
    "\n",
    "res = requests.get(req)"
   ]
  },
  {
   "cell_type": "code",
   "execution_count": 24,
   "id": "316b8a15-2a74-44a6-8882-97023fe9dbec",
   "metadata": {},
   "outputs": [],
   "source": [
    "content = BeautifulSoup(res.content)"
   ]
  },
  {
   "cell_type": "code",
   "execution_count": 25,
   "id": "866a6f77-22f9-4835-a489-d9231a244fd3",
   "metadata": {},
   "outputs": [],
   "source": [
    "containers = content.find_all(attrs={'class': 'item-card'})\n",
    "container = containers[0]\n",
    "name = container.find('h2')"
   ]
  },
  {
   "cell_type": "code",
   "execution_count": 27,
   "id": "3b6b9a37-ce82-4ba4-94ac-d841d897f2ab",
   "metadata": {},
   "outputs": [],
   "source": [
    "page_content = BeautifulSoup(requests.get('https://www.subito.it/fotografia/nikon-z5-fotocamera-mirrorless-24-200-ftz-genova-504022488.htm').content)"
   ]
  },
  {
   "cell_type": "code",
   "execution_count": 35,
   "id": "25288e24-3d6b-466b-b96f-9b90368b15c5",
   "metadata": {},
   "outputs": [
    {
     "data": {
      "text/plain": [
       "\"DescrizioneNIKON Z5 fotocamera mirrorless praticamente nuova , vendo completa di obiettivo 24-200 mm e adattatore FTZ per obiettivi Nikon non Z . Garanzia Nital ancora in vigore (corpo macchina scadenza 8/04/25; obiettivo scadenza 4/08/24, si dispone di certificati e fatture d'acquisto). Numero scatti 6273. Completa di accessori nuovi tra cui: supporto SmallRig per montaggio su tripod ad angolo 90°, filtro neutro UV K&F Concept per obiettivo suddetto, scheda 64 Gb 200 Mb/sec per riprese video sicure, vetri protettivi e antigraffio del display esterno (uno già montato), stick pulizia sensore, paraluce oculare. Spedizione gratuita e assicurata in Italia. Si accettano proposte d'offerta se di buon senso.\""
      ]
     },
     "execution_count": 35,
     "metadata": {},
     "output_type": "execute_result"
    }
   ],
   "source": [
    "status_box = page_content.select('[class*=\"grid_description\"]')\n",
    "status_box\n",
    "# document.querySelectorAll(‘[class*=transaction-status-container]’)\n"
   ]
  },
  {
   "cell_type": "code",
   "execution_count": 49,
   "id": "1ff82d42-654b-442f-b6ef-c7d3da4bb92a",
   "metadata": {},
   "outputs": [],
   "source": [
    "scraper = subito_scraper_new.SubitoScraper('nikon z5')"
   ]
  },
  {
   "cell_type": "code",
   "execution_count": 50,
   "id": "2d69df73-549c-44ea-9a8d-c6c775f0d7ac",
   "metadata": {},
   "outputs": [
    {
     "name": "stdout",
     "output_type": "stream",
     "text": [
      "product has already been scraped\n",
      "LISTING NAME: Nikon Z5\n",
      "Price: 1.190 €\t\n",
      "Link: https://www.subito.it/fotografia/nikon-z5-palermo-503924227.htm\t\n",
      "Description: \t\n",
      "Is Sold: False\n",
      "product has already been scraped\n",
      "LISTING NAME: NIKON Z5 fotocamera mirrorless+24-200+FTZ\n",
      "Price: 1.750 €Spedizione disponibile\t\n",
      "Link: https://www.subito.it/fotografia/nikon-z5-fotocamera-mirrorless-24-200-ftz-genova-504022488.htm\t\n",
      "Description: \t\n",
      "Is Sold: False\n",
      "product has already been scraped\n",
      "LISTING NAME: Nikon Z5\n",
      "Price: 1.190 €\t\n",
      "Link: https://www.subito.it/fotografia/nikon-z5-padova-503845351.htm\t\n",
      "Description: \t\n",
      "Is Sold: False\n",
      "product has already been scraped\n",
      "LISTING NAME: Nikon MB-N10 battery grip per Nikon Z5 / Z6 / Z7\n",
      "Price: 140 €\t\n",
      "Link: https://www.subito.it/fotografia/nikon-mb-n10-battery-grip-per-nikon-z5-z6-z7-padova-503845399.htm\t\n",
      "Description: \t\n",
      "Is Sold: False\n",
      "product has already been scraped\n",
      "LISTING NAME: USATO NIKON Z5 CON BATTERY GRIP\n",
      "Price: 1.000 €\t\n",
      "Link: https://www.subito.it/fotografia/usato-nikon-z5-con-battery-grip-torino-502250440.htm\t\n",
      "Description: \t\n",
      "Is Sold: False\n",
      "product has already been scraped\n",
      "LISTING NAME: Nikon Z5\n",
      "Price: 1.200 €\t\n",
      "Link: https://www.subito.it/fotografia/nikon-z5-rovigo-503191127.htm\t\n",
      "Description: \t\n",
      "Is Sold: False\n",
      "product has already been scraped\n",
      "LISTING NAME: Nikon z5\n",
      "Price: 1.600 €\t\n",
      "Link: https://www.subito.it/fotografia/nikon-z5-roma-466969601.htm\t\n",
      "Description: \t\n",
      "Is Sold: False\n",
      "product has already been scraped\n",
      "LISTING NAME: Nikon z5 con obbiettivo\n",
      "Price: 2.200 €Spedizione disponibile\t\n",
      "Link: https://www.subito.it/fotografia/nikon-z5-con-obbiettivo-lucca-496124148.htm\t\n",
      "Description: \t\n",
      "Is Sold: False\n",
      "product has already been scraped\n",
      "LISTING NAME: Nikon Z5\n",
      "Price: 1.090 €\t\n",
      "Link: https://www.subito.it/fotografia/nikon-z5-verona-503204872.htm\t\n",
      "Description: \t\n",
      "Is Sold: False\n",
      "product has already been scraped\n",
      "LISTING NAME: Nikon Z5\n",
      "Price: 2.000 €Spedizione disponibile\t\n",
      "Link: https://www.subito.it/fotografia/nikon-z5-milano-478994285.htm\t\n",
      "Description: \t\n",
      "Is Sold: False\n",
      "product has already been scraped\n",
      "LISTING NAME: Nikon z5\n",
      "Price: 950 €\t\n",
      "Link: https://www.subito.it/fotografia/nikon-z5-brescia-503473561.htm\t\n",
      "Description: \t\n",
      "Is Sold: False\n",
      "product has already been scraped\n",
      "LISTING NAME: Nikon Z5 con obiettivo 24-50mm\n",
      "Price: 1.190 €Spedizione disponibile\t\n",
      "Link: https://www.subito.it/fotografia/nikon-z5-con-obiettivo-24-50mm-milano-502355074.htm\t\n",
      "Description: \t\n",
      "Is Sold: False\n",
      "product has already been scraped\n",
      "LISTING NAME: Nikon z5 + ftz + accessori - Nital\n",
      "Price: 1.350 €Spedizione disponibile\t\n",
      "Link: https://www.subito.it/fotografia/nikon-z5-ftz-accessori-nital-mantova-503230339.htm\t\n",
      "Description: \t\n",
      "Is Sold: False\n",
      "product has already been scraped\n",
      "LISTING NAME: Nikon Z5 BODY 010251\n",
      "Price: 1.150 €\t\n",
      "Link: https://www.subito.it/fotografia/nikon-z5-body-010251-rovigo-503191113.htm\t\n",
      "Description: \t\n",
      "Is Sold: False\n",
      "product has already been scraped\n",
      "LISTING NAME: Nikon z5 body compreso FTZ Mount Adapter \n",
      "Price: 1.000 €\t\n",
      "Link: https://www.subito.it/fotografia/nikon-z5-body-compreso-ftz-mount-adapter-taranto-500194205.htm\t\n",
      "Description: \t\n",
      "Is Sold: False\n",
      "product has already been scraped\n",
      "LISTING NAME: Nikon z5 mirrorless 24/200\n",
      "Price: 1.650 €\t\n",
      "Link: https://www.subito.it/fotografia/nikon-z5-mirrorless-24-200-milano-490878760.htm\t\n",
      "Description: \t\n",
      "Is Sold: False\n",
      "product has already been scraped\n",
      "LISTING NAME: Nikon Z5 nuovo\n",
      "Price: 1.219 €\t\n",
      "Link: https://www.subito.it/fotografia/nikon-z5-nuovo-milano-351001165.htm\t\n",
      "Description: \t\n",
      "Is Sold: False\n",
      "product has already been scraped\n",
      "LISTING NAME: Nikon Z5 - Fotocamera full frame - Scatti: 4.200\n",
      "Price: 890 €Venduto\t\n",
      "Link: https://www.subito.it/fotografia/nikon-z5-fotocamera-full-frame-scatti-4-200-como-483885498.htm\t\n",
      "Description: \t\n",
      "Is Sold: False\n",
      "product has already been scraped\n",
      "LISTING NAME: Nikon z5 +24-70\n",
      "Price: 1.450 €\t\n",
      "Link: https://www.subito.it/fotografia/nikon-z5-24-70-como-457032068.htm\t\n",
      "Description: \t\n",
      "Is Sold: False\n",
      "product has already been scraped\n",
      "LISTING NAME: Nikon Z5 kit 24-50 NUOVA\n",
      "Price: 1.699 €Spedizione disponibile\t\n",
      "Link: https://www.subito.it/fotografia/nikon-z5-kit-24-50-nuova-ancona-461441596.htm\t\n",
      "Description: \t\n",
      "Is Sold: False\n",
      "product has already been scraped\n",
      "LISTING NAME: Nikon - z5 corpo matr.6019196 - scatti 9698\n",
      "Price: 1.190 €\t\n",
      "Link: https://www.subito.it/fotografia/nikon-z5-corpo-matr-6019196-scatti-9698-modena-483069230.htm\t\n",
      "Description: \t\n",
      "Is Sold: False\n",
      "product has already been scraped\n",
      "LISTING NAME: Nikon z5 con nikon 50mm f1.8 S line\n",
      "Price: 1.500 €Spedizione disponibile\t\n",
      "Link: https://www.subito.it/fotografia/nikon-z5-con-nikon-50mm-f1-8-s-line-siracusa-497161021.htm\t\n",
      "Description: \t\n",
      "Is Sold: False\n",
      "product has already been scraped\n",
      "LISTING NAME: Obiettivo Nikon 70-300 4.5 5.6 E AF-P ED\n",
      "Price: 540 €Spedizione disponibile\t\n",
      "Link: https://www.subito.it/fotografia/obiettivo-nikon-70-300-4-5-5-6-e-af-p-ed-treviso-503678946.htm\t\n",
      "Description: \t\n",
      "Is Sold: False\n",
      "product has already been scraped\n",
      "LISTING NAME: mirrorless nikon z5 nuova + FTZ\n",
      "Price: 1.070 €Venduto\t\n",
      "Link: https://www.subito.it/fotografia/mirrorless-nikon-z5-nuova-ftz-verona-498802571.htm\t\n",
      "Description: \t\n",
      "Is Sold: False\n",
      "product has already been scraped\n",
      "LISTING NAME: Nikon Z5 + ftz II adapter nuovo\n",
      "Price: 1.479 €\t\n",
      "Link: https://www.subito.it/fotografia/nikon-z5-ftz-ii-adapter-nuovo-milano-351001048.htm\t\n",
      "Description: \t\n",
      "Is Sold: False\n",
      "product has already been scraped\n",
      "LISTING NAME: Fotocamera Nikon\n",
      "Price: 1.500 €Spedizione disponibile\t\n",
      "Link: https://www.subito.it/fotografia/fotocamera-nikon-roma-482435903.htm\t\n",
      "Description: \t\n",
      "Is Sold: False\n",
      "product has already been scraped\n",
      "LISTING NAME: NIKON Z5 + NIKON 24-70 F/4 - TUTTO NUOVO\n",
      "Price: 1.300 €\t\n",
      "Link: https://www.subito.it/fotografia/nikon-z5-nikon-24-70-f-4-tutto-nuovo-gorizia-501963542.htm\t\n",
      "Description: \t\n",
      "Is Sold: False\n",
      "product has already been scraped\n",
      "LISTING NAME: Nikon Z5 + 24-200mm\n",
      "Price: 1.300 €\t\n",
      "Link: https://www.subito.it/fotografia/nikon-z5-24-200mm-foggia-500100658.htm\t\n",
      "Description: \t\n",
      "Is Sold: False\n",
      "product has already been scraped\n",
      "LISTING NAME: Nikon SB-700 Flash\n",
      "Price: 109 €Spedizione disponibile\t\n",
      "Link: https://www.subito.it/fotografia/nikon-sb-700-flash-chieti-492187154.htm\t\n",
      "Description: \t\n",
      "Is Sold: False\n",
      "product has already been scraped\n",
      "LISTING NAME: Nikon 14 - 24 2.8g\n",
      "Price: 750 €\t\n",
      "Link: https://www.subito.it/fotografia/nikon-14-24-2-8g-roma-482574303.htm\t\n",
      "Description: \t\n",
      "Is Sold: False\n"
     ]
    }
   ],
   "source": [
    "scraper.scrape_listings()"
   ]
  },
  {
   "cell_type": "code",
   "execution_count": null,
   "id": "faaedec5-e0a0-4235-938c-96ac88422bba",
   "metadata": {},
   "outputs": [],
   "source": []
  }
 ],
 "metadata": {
  "kernelspec": {
   "display_name": "Python 3 (ipykernel)",
   "language": "python",
   "name": "python3"
  },
  "language_info": {
   "codemirror_mode": {
    "name": "ipython",
    "version": 3
   },
   "file_extension": ".py",
   "mimetype": "text/x-python",
   "name": "python",
   "nbconvert_exporter": "python",
   "pygments_lexer": "ipython3",
   "version": "3.10.9"
  }
 },
 "nbformat": 4,
 "nbformat_minor": 5
}
