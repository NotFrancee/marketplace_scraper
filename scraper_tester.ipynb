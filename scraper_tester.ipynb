{
 "cells": [
  {
   "cell_type": "code",
   "execution_count": 54,
   "id": "ca77c6e0-42ca-4937-a4b6-f2fdd19579c1",
   "metadata": {},
   "outputs": [
    {
     "data": {
      "text/plain": [
       "<module 'scrapers.subito_scraper' from '/Users/andreafranceschini/Documents/Coding/Python/marketplace_scraper/scrapers/subito_scraper.py'>"
      ]
     },
     "execution_count": 54,
     "metadata": {},
     "output_type": "execute_result"
    }
   ],
   "source": [
    "from bs4 import BeautifulSoup\n",
    "import requests\n",
    "import numpy as np\n",
    "import pandas as pd\n",
    "import os\n",
    "import datetime\n",
    "import importlib\n",
    "from selenium.webdriver.common.by import By\n",
    "\n",
    "from classes import product, scraper\n",
    "from scrapers import subito_scraper\n",
    "\n",
    "importlib.reload(product)\n",
    "importlib.reload(scraper)\n",
    "importlib.reload(subito_scraper)\n",
    "# os.chdir('C:\\\\Users\\\\utezstage198\\\\Documents\\\\strategies_py\\\\scraper')"
   ]
  },
  {
   "cell_type": "markdown",
   "id": "b97f6d99-9c29-41ef-84e1-2fcaec243c14",
   "metadata": {
    "tags": []
   },
   "source": [
    "## Collecting URLs for the companies"
   ]
  },
  {
   "cell_type": "code",
   "execution_count": 55,
   "id": "1ff82d42-654b-442f-b6ef-c7d3da4bb92a",
   "metadata": {},
   "outputs": [],
   "source": [
    "scraper = subito_scraper.SubitoScraper('nikon z5')"
   ]
  },
  {
   "cell_type": "code",
   "execution_count": 56,
   "id": "2d69df73-549c-44ea-9a8d-c6c775f0d7ac",
   "metadata": {},
   "outputs": [],
   "source": [
    "scraper.get_listings()\n",
    "scraper.refresh_listings_data()"
   ]
  },
  {
   "cell_type": "code",
   "execution_count": 58,
   "id": "918cb981-2f8a-458c-a5fd-88f429022b1b",
   "metadata": {},
   "outputs": [
    {
     "name": "stdout",
     "output_type": "stream",
     "text": [
      "LISTING NAME: Nikon Z5 + 24-200mm\n",
      "Price: 1.300 €\t\n",
      "Link: https://www.subito.it/fotografia/nikon-z5-24-200mm-foggia-500100658.htm\t\n",
      "Description: Macchina comprata per sfizio ma usata veramente poco. Esteticamente pari al nuovo. Completa di tappi, paraluce, carica batteria originale Nikon. Priva di scatola originale. No garanzia Nital.\n",
      "Preferisco consegna a mano, cosí da poterla mostrare  anche dal vivo, ma spedisco anche con costi a carico dell’acquirente.\t\n",
      "Is Sold: False\n"
     ]
    }
   ],
   "source": [
    "p = scraper.scraped_products['https://www.subito.it/fotografia/nikon-z5-24-200mm-foggia-500100658.htm']\n",
    "\n",
    "print(p) \n"
   ]
  },
  {
   "cell_type": "code",
   "execution_count": null,
   "id": "22db40fe-9768-40a5-95a7-c258dcf89f30",
   "metadata": {},
   "outputs": [],
   "source": []
  }
 ],
 "metadata": {
  "kernelspec": {
   "display_name": "Python 3 (ipykernel)",
   "language": "python",
   "name": "python3"
  },
  "language_info": {
   "codemirror_mode": {
    "name": "ipython",
    "version": 3
   },
   "file_extension": ".py",
   "mimetype": "text/x-python",
   "name": "python",
   "nbconvert_exporter": "python",
   "pygments_lexer": "ipython3",
   "version": "3.11.3"
  }
 },
 "nbformat": 4,
 "nbformat_minor": 5
}
